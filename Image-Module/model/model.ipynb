{
  "cells": [
    {
      "cell_type": "markdown",
      "metadata": {},
      "source": [
        "# Plant Disease Detection Application\n",
        "\n",
        "This notebook implements a plant disease detection system using Google's Gemini model for image analysis. The application provides both a FastAPI backend and a Gradio web interface for easy interaction.\n",
        "\n",
        "## Features\n",
        "- Analyzes plant images to detect diseases and pests\n",
        "- Provides confidence scores and treatment recommendations\n",
        "- Draws bounding boxes around detected issues\n",
        "- Offers both API endpoints and a user-friendly web interface\n",
        "\n",
        "## Requirements\n",
        "- Google Gemini API key\n",
        "- Python packages: fastapi, uvicorn, gradio, google-generativeai, PIL, OpenCV, NumPy"
      ]
    },
    {
      "cell_type": "markdown",
      "metadata": {},
      "source": [
        "## Setup and Imports\n",
        "\n",
        "First, let's import all the necessary libraries and configure our environment."
      ]
    },
    {
      "cell_type": "code",
      "execution_count": 1,
      "metadata": {},
      "outputs": [
        {
          "ename": "ModuleNotFoundError",
          "evalue": "No module named 'uvicorn'",
          "output_type": "error",
          "traceback": [
            "\u001b[1;31m---------------------------------------------------------------------------\u001b[0m",
            "\u001b[1;31mModuleNotFoundError\u001b[0m                       Traceback (most recent call last)",
            "Cell \u001b[1;32mIn[1], line 9\u001b[0m\n\u001b[0;32m      7\u001b[0m \u001b[38;5;28;01mimport\u001b[39;00m\u001b[38;5;250m \u001b[39m\u001b[38;5;21;01mcv2\u001b[39;00m\n\u001b[0;32m      8\u001b[0m \u001b[38;5;28;01mfrom\u001b[39;00m\u001b[38;5;250m \u001b[39m\u001b[38;5;21;01mPIL\u001b[39;00m\u001b[38;5;250m \u001b[39m\u001b[38;5;28;01mimport\u001b[39;00m Image\n\u001b[1;32m----> 9\u001b[0m \u001b[38;5;28;01mimport\u001b[39;00m\u001b[38;5;250m \u001b[39m\u001b[38;5;21;01muvicorn\u001b[39;00m\n\u001b[0;32m     10\u001b[0m \u001b[38;5;28;01mimport\u001b[39;00m\u001b[38;5;250m \u001b[39m\u001b[38;5;21;01mgradio\u001b[39;00m\u001b[38;5;250m \u001b[39m\u001b[38;5;28;01mas\u001b[39;00m\u001b[38;5;250m \u001b[39m\u001b[38;5;21;01mgr\u001b[39;00m\n\u001b[0;32m     11\u001b[0m \u001b[38;5;28;01mfrom\u001b[39;00m\u001b[38;5;250m \u001b[39m\u001b[38;5;21;01mfastapi\u001b[39;00m\u001b[38;5;250m \u001b[39m\u001b[38;5;28;01mimport\u001b[39;00m FastAPI, File, UploadFile, HTTPException\n",
            "\u001b[1;31mModuleNotFoundError\u001b[0m: No module named 'uvicorn'"
          ]
        }
      ],
      "source": [
        "import os\n",
        "import io\n",
        "import uuid\n",
        "import json\n",
        "import base64\n",
        "import numpy as np\n",
        "import cv2\n",
        "from PIL import Image\n",
        "import uvicorn\n",
        "import gradio as gr\n",
        "from fastapi import FastAPI, File, UploadFile, HTTPException\n",
        "from fastapi.middleware.cors import CORSMiddleware\n",
        "from fastapi.responses import HTMLResponse\n",
        "import google.generativeai as genai\n",
        "import httpx\n",
        "import asyncio"
      ]
    },
    {
      "cell_type": "markdown",
      "metadata": {},
      "source": [
        "## Configure Google Gemini API\n",
        "\n",
        "To use the Gemini model, we need to set up our API key. For security in a notebook environment, we'll use environment variables or allow for manual input."
      ]
    },
    {
      "cell_type": "code",
      "execution_count": null,
      "metadata": {},
      "outputs": [],
      "source": [
        "# Option 1: Get API key from environment variable\n",
        "API_KEY = os.getenv(\"GEMINI_API_KEY\")\n",
        "\n",
        "# Option 2: Set API key manually if not found in environment (for notebook use)\n",
        "if not API_KEY:\n",
        "    # Uncomment and set your API key for notebook use\n",
        "    # API_KEY = \"your_api_key_here\"  # Replace with your actual API key\n",
        "    pass\n",
        "\n",
        "# Ensure we have an API key\n",
        "if not API_KEY:\n",
        "    raise ValueError(\"Missing GEMINI_API_KEY. Please set it as an environment variable or directly in the notebook.\")\n",
        "\n",
        "# Configure Gemini with our API key\n",
        "genai.configure(api_key=API_KEY)\n",
        "\n",
        "# Initialize the Gemini model\n",
        "LLM_MODEL = \"gemini-2.0-flash-lite\"  # Using the flash-lite model for faster response\n",
        "model = genai.GenerativeModel(LLM_MODEL)\n",
        "\n",
        "print(f\"Gemini model '{LLM_MODEL}' initialized successfully!\")"
      ]
    },
    {
      "cell_type": "markdown",
      "metadata": {},
      "source": [
        "## Define HTML Content for Homepage\n",
        "\n",
        "In the original code, the HTML content is imported from another file. For our notebook, we'll define it directly."
      ]
    },
    {
      "cell_type": "code",
      "execution_count": null,
      "metadata": {},
      "outputs": [],
      "source": [
        "# Simple HTML for the homepage\n",
        "HOME_HTML = \"\"\"\n",
        "<!DOCTYPE html>\n",
        "<html>\n",
        "    <head>\n",
        "        <title>Plant Disease Detection API</title>\n",
        "        <style>\n",
        "            body { font-family: Arial, sans-serif; max-width: 800px; margin: 0 auto; padding: 20px; }\n",
        "            h1 { color: #2e7d32; }\n",
        "            .endpoint { background: #f5f5f5; padding: 15px; border-radius: 5px; margin-bottom: 15px; }\n",
        "            code { background: #e0e0e0; padding: 2px 5px; border-radius: 3px; }\n",
        "        </style>\n",
        "    </head>\n",
        "    <body>\n",
        "        <h1>Plant Disease Detection API</h1>\n",
        "        <p>This API analyzes plant images to detect diseases and pests using the Google Gemini AI model.</p>\n",
        "        \n",
        "        <h2>Available Endpoints:</h2>\n",
        "        \n",
        "        <div class=\"endpoint\">\n",
        "            <h3>POST /detect</h3>\n",
        "            <p>Upload an image for analysis.</p>\n",
        "            <p>Example curl request:</p>\n",
        "            <code>curl -X POST -F \"file=@plant.jpg\" https://your-api-url.com/detect</code>\n",
        "        </div>\n",
        "        \n",
        "        <div class=\"endpoint\">\n",
        "            <h3>GET /gradio</h3>\n",
        "            <p>Access the web interface for easier interaction.</p>\n",
        "        </div>\n",
        "        \n",
        "        <div class=\"endpoint\">\n",
        "            <h3>GET /health</h3>\n",
        "            <p>Check if the API is running properly.</p>\n",
        "        </div>\n",
        "        \n",
        "        <p>For more information, visit the <a href=\"/gradio\">Gradio interface</a>.</p>\n",
        "    </body>\n",
        "</html>\n",
        "\"\"\""
      ]
    },
    {
      "cell_type": "markdown",
      "metadata": {},
      "source": [
        "## Core Functions for Image Analysis\n",
        "\n",
        "Now let's define the key functions that power our plant disease detection system."
      ]
    },
    {
      "cell_type": "code",
      "execution_count": null,
      "metadata": {},
      "outputs": [],
      "source": [
        "def analyze_image(image_data):\n",
        "    \"\"\"\n",
        "    Use Google's Gemini model to analyze the image for plant diseases or pests.\n",
        "    \n",
        "    Args:\n",
        "        image_data: Image as bytes or PIL Image\n",
        "        \n",
        "    Returns:\n",
        "        dict: Analysis results in JSON format\n",
        "    \"\"\"\n",
        "    try:\n",
        "        # Convert to PIL Image if it's not already\n",
        "        if not isinstance(image_data, Image.Image):\n",
        "            img = Image.open(io.BytesIO(image_data))\n",
        "        else:\n",
        "            img = image_data\n",
        "        \n",
        "        # Prepare prompt for Gemini - this instructs the model on what to look for and how to format the response\n",
        "        prompt = \"\"\"\n",
        "        Analyze this plant image and identify if there are any diseases or pests present.\n",
        "        If you find any issues, provide the following information in JSON format:\n",
        "        1. Disease/pest name\n",
        "        2. Confidence level (0-100)\n",
        "        3. Brief description\n",
        "        4. Recommendation for treatment\n",
        "        5. Bounding box coordinates [x_min, y_min, x_width, y_height] as percentages of image dimensions\n",
        "        6. If you detect the main object is not plants or pest issues, set valid as false\n",
        "        7. If the image is blurred, set blurred as true else false\n",
        "        \n",
        "        Return a valid JSON with these fields:\n",
        "        {\n",
        "            \"detected\": true/false,\n",
        "            \"valid\": true/false,\n",
        "            \"blurred\": true/false,\n",
        "            \"obj\": \"plant\"/\"pest\"/\"what it is actually\",\n",
        "            \"issues\": [\n",
        "                {\n",
        "                    \"type\": \"disease\" or \"pest\",\n",
        "                    \"name\": \"name of disease/pest\",\n",
        "                    \"confidence\": 0-100,\n",
        "                    \"description\": \"brief description\",\n",
        "                    \"treatment\": \"treatment recommendation\",\n",
        "                    \"bbox\": [x_min, y_min, x_width, y_height]\n",
        "                }\n",
        "            ]\n",
        "        }\n",
        "\n",
        "        Note: Here \"obj\" attribute means what it is actually like soil, plastic, human or anything it is. \n",
        "        If find multiple objects set the value as an array. Don't return \"others\" directly return the data or info.\n",
        "        \"\"\"\n",
        "        \n",
        "        # Generate content with Gemini by sending both the prompt and the image\n",
        "        response = model.generate_content([prompt, img])\n",
        "        \n",
        "        # Extract text from the response\n",
        "        response_text = response.text\n",
        "        \n",
        "        # Find JSON in the response (sometimes Gemini includes additional text before/after the JSON)\n",
        "        json_start = response_text.find('{')\n",
        "        json_end = response_text.rfind('}') + 1\n",
        "        \n",
        "        if json_start != -1 and json_end != -1:\n",
        "            # Extract just the JSON part\n",
        "            json_str = response_text[json_start:json_end]\n",
        "            result = json.loads(json_str)  # Parse the JSON string into a Python dictionary\n",
        "        else:\n",
        "            # Fallback if no proper JSON is found\n",
        "            result = {\"detected\": False, \"error\": \"Could not parse response\"}\n",
        "        \n",
        "        return result\n",
        "    \n",
        "    except Exception as e:\n",
        "        print(f\"Error analyzing image: {str(e)}\")\n",
        "        return {\"detected\": False, \"error\": str(e)}"
      ]
    },
    {
      "cell_type": "code",
      "execution_count": null,
      "metadata": {},
      "outputs": [],
      "source": [
        "def draw_bounding_boxes(image_data, issues):\n",
        "    \"\"\"\n",
        "    Draw bounding boxes on the image based on the detected issues.\n",
        "    \n",
        "    Args:\n",
        "        image_data: Image as bytes, PIL Image, or numpy array\n",
        "        issues: List of detected issues with bounding boxes\n",
        "        \n",
        "    Returns:\n",
        "        PIL.Image: Image with bounding boxes drawn\n",
        "    \"\"\"\n",
        "    # Convert to numpy array if it's not already - OpenCV works with numpy arrays\n",
        "    if isinstance(image_data, Image.Image):\n",
        "        image_data = np.array(image_data)\n",
        "    elif isinstance(image_data, bytes):\n",
        "        # Convert bytes to numpy array\n",
        "        nparr = np.frombuffer(image_data, np.uint8)\n",
        "        image_data = cv2.imdecode(nparr, cv2.IMREAD_COLOR)\n",
        "        # Convert BGR to RGB (OpenCV loads as BGR, but PIL uses RGB)\n",
        "        image_data = cv2.cvtColor(image_data, cv2.COLOR_BGR2RGB)\n",
        "    \n",
        "    # Get image dimensions\n",
        "    h, w = image_data.shape[:2]\n",
        "    \n",
        "    # Process each detected issue\n",
        "    for issue in issues:\n",
        "        if \"bbox\" in issue:\n",
        "            # Extract bounding box coordinates (given as percentages)\n",
        "            bbox = issue[\"bbox\"]\n",
        "            # Convert percentages to pixel coordinates\n",
        "            x_min = int(bbox[0] * w / 100)\n",
        "            y_min = int(bbox[1] * h / 100)\n",
        "            x_width = int(bbox[2] * w / 100)\n",
        "            y_height = int(bbox[3] * h / 100)\n",
        "            \n",
        "            # Define color based on issue type (red for disease, blue for pest)\n",
        "            # Using RGB format: (255, 0, 0) for red, (0, 0, 255) for blue\n",
        "            color = (255, 0, 0) if issue[\"type\"] == \"disease\" else (0, 0, 255)\n",
        "            \n",
        "            # Draw rectangle around the detected issue\n",
        "            cv2.rectangle(image_data, (x_min, y_min), (x_min + x_width, y_min + y_height), color, 2)\n",
        "            \n",
        "            # Add label with name and confidence score\n",
        "            label = f\"{issue['name']} ({issue['confidence']}%)\"\n",
        "            cv2.putText(image_data, label, (x_min, y_min - 10), cv2.FONT_HERSHEY_SIMPLEX, 0.5, color, 2)\n",
        "    \n",
        "    # Convert back to PIL Image for easier handling in Python\n",
        "    return Image.fromarray(image_data)"
      ]
    },
    {
      "cell_type": "code",
      "execution_count": null,
      "metadata": {},
      "outputs": [],
      "source": [
        "def image_to_base64(image_data):\n",
        "    \"\"\"\n",
        "    Convert image data to base64 string for web display.\n",
        "    \n",
        "    Args:\n",
        "        image_data: Image as bytes or PIL Image\n",
        "        \n",
        "    Returns:\n",
        "        str: Base64 encoded image string with data URL prefix\n",
        "    \"\"\"\n",
        "    # Handle different input types\n",
        "    if isinstance(image_data, Image.Image):\n",
        "        # Convert PIL Image to bytes\n",
        "        buffered = io.BytesIO()\n",
        "        image_data.save(buffered, format=\"JPEG\")\n",
        "        img_bytes = buffered.getvalue()\n",
        "    else:\n",
        "        # Already in bytes format\n",
        "        img_bytes = image_data\n",
        "    \n",
        "    # Encode bytes as base64 string\n",
        "    base64_encoded = base64.b64encode(img_bytes).decode(\"utf-8\")\n",
        "    \n",
        "    # Return with data URL prefix for embedding in HTML/CSS\n",
        "    return f\"data:image/jpeg;base64,{base64_encoded}\""
      ]
    },
    {
      "cell_type": "code",
      "execution_count": null,
      "metadata": {},
      "outputs": [],
      "source": [
        "def process_image_for_gradio(image):\n",
        "    \"\"\"\n",
        "    Process an image for the Gradio interface.\n",
        "    \n",
        "    Args:\n",
        "        image: PIL Image uploaded through Gradio\n",
        "        \n",
        "    Returns:\n",
        "        tuple: (processed_image, result_text)\n",
        "    \"\"\"\n",
        "    # Check if an image was provided\n",
        "    if image is None:\n",
        "        return None, \"No image provided\"\n",
        "    \n",
        "    # Analyze the image using our Gemini-powered function\n",
        "    analysis_result = analyze_image(image)\n",
        "    \n",
        "    # Process image with bounding boxes if issues were detected\n",
        "    if analysis_result.get(\"detected\", False) and \"issues\" in analysis_result and analysis_result[\"issues\"]:\n",
        "        # Draw bounding boxes around detected issues\n",
        "        processed_image = draw_bounding_boxes(image, analysis_result[\"issues\"])\n",
        "    else:\n",
        "        # If no issues detected, return the original image\n",
        "        processed_image = image\n",
        "    \n",
        "    # Format the results as pretty-printed JSON for display\n",
        "    result_text = json.dumps(analysis_result, indent=2)\n",
        "    \n",
        "    return processed_image, result_text"
      ]
    },
    {
      "cell_type": "markdown",
      "metadata": {},
      "source": [
        "## Setup FastAPI Application\n",
        "\n",
        "Now we'll create our FastAPI application with all the necessary endpoints and middleware."
      ]
    },
    {
      "cell_type": "code",
      "execution_count": null,
      "metadata": {},
      "outputs": [],
      "source": [
        "# Create FastAPI app with title\n",
        "app = FastAPI(title=\"Plant Disease Detection\")\n",
        "\n",
        "# Configure CORS (Cross-Origin Resource Sharing) to allow requests from any origin\n",
        "app.add_middleware(\n",
        "    CORSMiddleware,\n",
        "    allow_origins=[\"*\"],  # Allows all origins\n",
        "    allow_credentials=True,\n",
        "    allow_methods=[\"*\"],  # Allows all methods\n",
        "    allow_headers=[\"*\"],  # Allows all headers\n",
        ")"
      ]
    },
    {
      "cell_type": "markdown",
      "metadata": {},
      "source": [
        "## Gradio Interface Setup\n",
        "\n",
        "Next, let's create a user-friendly Gradio interface for our application."
      ]
    },
    {
      "cell_type": "code",
      "execution_count": null,
      "metadata": {},
      "outputs": [],
      "source": [
        "# Create Gradio interface for user-friendly interaction\n",
        "iface = gr.Interface(\n",
        "    # The function to call when an image is uploaded\n",
        "    fn=process_image_for_gradio,\n",
        "    # Input component - an image uploader\n",
        "    inputs=gr.Image(type=\"pil\", label=\"Upload Plant Image\"),\n",
        "    # Output components - the processed image and analysis results\n",
        "    outputs=[\n",
        "        gr.Image(label=\"Processed Image\"),\n",
        "        gr.JSON(label=\"Analysis Results\")\n",
        "    ],\n",
        "    title=\"Plant Disease and Pest Detection\",\n",
        "    description=\"Upload an image of a plant to detect potential diseases or pests.\",\n",
        "    theme=\"default\"\n",
        ")"
      ]
    },
    {
      "cell_type": "markdown",
      "metadata": {},
      "source": [
        "## Server Auto-Ping Function\n",
        "\n",
        "This function keeps the server alive by periodically sending requests to itself. Useful for deployed environments that may sleep after periods of inactivity."
      ]
    },
    {
      "cell_type": "code",
      "execution_count": null,
      "metadata": {},
      "outputs": [],
      "source": [
        "async def ping_self():\n",
        "    \"\"\"Periodically ping the server to prevent it from sleeping (useful for free hosting services)\"\"\"\n",
        "    async with httpx.AsyncClient() as client:\n",
        "        while True:\n",
        "            try:\n",
        "                # Try to get the base URL from environment variable\n",
        "                base_url = os.getenv(\"BASE_URL\")\n",
        "                if base_url:\n",
        "                    await client.get(base_url)\n",
        "            except:\n",
        "                # Silently ignore errors\n",
        "                pass\n",
        "            # Wait 5 minutes before pinging again\n",
        "            await asyncio.sleep(300)"
      ]
    },
    {
      "cell_type": "code",
      "execution_count": null,
      "metadata": {},
      "outputs": [],
      "source": [
        "@app.on_event(\"startup\")\n",
        "async def startup_event():\n",
        "    \"\"\"Function that runs when the server starts up\"\"\"\n",
        "    # Start the ping task in the background\n",
        "    asyncio.create_task(ping_self())"
      ]
    },
    {
      "cell_type": "markdown",
      "metadata": {},
      "source": [
        "## FastAPI Endpoints\n",
        "\n",
        "Now let's define all our API endpoints."
      ]
    },
    {
      "cell_type": "code",
      "execution_count": null,
      "metadata": {},
      "outputs": [],
      "source": [
        "# FastAPI endpoint for home page\n",
        "@app.get(\"/\", response_class=HTMLResponse)\n",
        "def home():\n",
        "    \"\"\"\n",
        "    Root endpoint for the API returning the HTML homepage.\n",
        "    \"\"\"\n",
        "    return HOME_HTML"
      ]
    },
    {
      "cell_type": "code",
      "execution_count": null,
      "metadata": {},
      "outputs": [],
      "source": [
        "# FastAPI endpoint for Gradio web UI\n",
        "@app.get(\"/gradio\", response_class=HTMLResponse)\n",
        "def gradio_redirect():\n",
        "    \"\"\"\n",
        "    Redirect page to the Gradio interface.\n",
        "    \"\"\"\n",
        "    return \"\"\"\n",
        "    <html>\n",
        "        <head>\n",
        "            <meta http-equiv=\"refresh\" content=\"0;url=/gradio\" />\n",
        "        </head>\n",
        "        <body>\n",
        "            <p>Redirecting to Gradio interface...</p>\n",
        "        </body>\n",
        "    </html>\n",
        "    \"\"\""
      ]
    },
    {
      "cell_type": "code",
      "execution_count": null,
      "metadata": {},
      "outputs": [],
      "source": [
        "# FastAPI endpoint for direct image upload and analysis\n",
        "@app.post(\"/detect\")\n",
        "async def detect_plant_issues(file: UploadFile = File(...)):\n",
        "    \"\"\"\n",
        "    Endpoint to detect plant diseases or pests in an uploaded image.\n",
        "    \n",
        "    Args:\n",
        "        file: Uploaded image file\n",
        "        \n",
        "    Returns:\n",
        "        dict: Analysis results with processed image as base64\n",
        "    \"\"\"\n",
        "    # Validate that the uploaded file is an image\n",
        "    if not file.content_type.startswith(\"image/\"):\n",
        "        raise HTTPException(status_code=400, detail=\"File must be an image\")\n",
        "    \n",
        "    # Read the image file\n",
        "    image_data = await file.read()\n",
        "    \n",
        "    # Analyze image with Gemini\n",
        "    analysis_result = analyze_image(image_data)\n",
        "    \n",
        "    # Generate response with image if issues detected\n",
        "    if analysis_result.get(\"detected\", False) and \"issues\" in analysis_result:\n",
        "        # Draw bounding boxes on the image\n",
        "        img = Image.open(io.BytesIO(image_data))\n",
        "        processed_image = draw_bounding_boxes(img, analysis_result[\"issues\"])\n",
        "        \n",
        "        # Convert to base64 for sending in response\n",
        "        base64_image = image_to_base64(processed_image)\n",
        "    else:\n",
        "        # If no issues detected, return the original image\n",
        "        base64_image = image_to_base64(image_data)\n",
        "    \n",
        "    # Add the processed image to the response\n",
        "    analysis_result[\"processed_image\"] = base64_image\n",
        "    \n",
        "    # Generate a unique ID for this analysis\n",
        "    analysis_result[\"id\"] = str(uuid.uuid4())\n",
        "    \n",
        "    return analysis_result"
      ]
    },
    {
      "cell_type": "code",
      "execution_count": null,
      "metadata": {},
      "outputs": [],
      "source": [
        "@app.get(\"/health\")\n",
        "async def health_check():\n",
        "    \"\"\"\n",
        "    Health check endpoint to verify the API is running.\n",
        "    \"\"\"\n",
        "    return {\n",
        "        \"status\": \"Healthy\", \n",
        "        \"model\": LLM_MODEL,\n",
        "        \"api_key\": bool(API_KEY)  # Just returns True/False to verify API key exists without exposing it\n",
        "    }"
      ]
    },
    {
      "cell_type": "markdown",
      "metadata": {},
      "source": [
        "## Mount Gradio App to FastAPI\n",
        "\n",
        "Now we'll mount the Gradio interface to our FastAPI application."
      ]
    },
    {
      "cell_type": "code",
      "execution_count": null,
      "metadata": {},
      "outputs": [],
      "source": [
        "# Mount Gradio app to FastAPI\n",
        "app.mount(\"/\", gr.routes.App(iface))"
      ]
    },
    {
      "cell_type": "markdown",
      "metadata": {},
      "source": [
        "## Run the Server\n",
        "\n",
        "Finally, we'll define a function to run the server and execute it if this notebook is run directly."
      ]
    },
    {
      "cell_type": "code",
      "execution_count": null,
      "metadata": {},
      "outputs": [],
      "source": [
        "def main():\n",
        "    \"\"\"Run the server\"\"\"\n",
        "    # Get port from environment variable, default to 7860 (common for Gradio apps)\n",
        "    port = int(os.environ.get('PORT', 7860))\n",
        "    \n",
        "    # Start the uvicorn server\n",
        "    uvicorn.run(\n",
        "        app,\n",
        "        host=\"0.0.0.0\",  # Make server accessible from any IP\n",
        "        port=port\n",
        "    )"
      ]
    },
    {
      "cell_type": "code",
      "execution_count": null,
      "metadata": {},
      "outputs": [],
      "source": [
        "# Run the server if this notebook is executed directly\n",
        "if __name__ == \"__main__\":\n",
        "    main()"
      ]
    },
    {
      "cell_type": "code",
      "execution_count": null,
      "metadata": {},
      "outputs": [],
      "source": []
    }
  ],
  "metadata": {
    "kernelspec": {
      "display_name": "Python 3",
      "language": "python",
      "name": "python3"
    },
    "language_info": {
      "codemirror_mode": {
        "name": "ipython",
        "version": 3
      },
      "file_extension": ".py",
      "mimetype": "text/x-python",
      "name": "python",
      "nbconvert_exporter": "python",
      "pygments_lexer": "ipython3",
      "version": "3.10.5"
    }
  },
  "nbformat": 4,
  "nbformat_minor": 2
}
